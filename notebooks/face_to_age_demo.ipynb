{
 "cells": [
  {
   "cell_type": "markdown",
   "metadata": {
    "id": "WCk2YEqBhdP2"
   },
   "source": [
    "# Face Detection Challenge"
   ]
  },
  {
   "cell_type": "code",
   "execution_count": 1,
   "metadata": {
    "ExecuteTime": {
     "end_time": "2021-03-17T15:21:20.824444Z",
     "start_time": "2021-03-17T15:21:14.214481Z"
    },
    "executionInfo": {
     "elapsed": 3224,
     "status": "ok",
     "timestamp": 1615229786391,
     "user": {
      "displayName": "Bruno Lajoie",
      "photoUrl": "https://lh3.googleusercontent.com/a-/AOh14Gg0dl6gThG8gOPbCvHbgt62zQnsi8cgbQ7C5HkD_Cg=s64",
      "userId": "15793030209206844069"
     },
     "user_tz": -60
    },
    "id": "ZH4sxIwVqhAV"
   },
   "outputs": [],
   "source": [
    "import numpy as np \n",
    "import pandas as pd\n",
    "import tensorflow as tf\n",
    "from tensorflow.keras import Sequential, layers\n",
    "from tensorflow.keras.callbacks import EarlyStopping\n",
    "import matplotlib.pyplot as plt\n",
    "import seaborn as sns"
   ]
  },
  {
   "cell_type": "markdown",
   "metadata": {
    "id": "JBXc4442fJZV"
   },
   "source": [
    "### Objectives\n",
    "-  visualize images\n",
    "-  preprocess images for Neural Networks\n",
    "-  fit a custom CNN for a regression task\n",
    "-  fine-tune a analyse model performance"
   ]
  },
  {
   "cell_type": "markdown",
   "metadata": {
    "id": "gv76LFXjqzau"
   },
   "source": [
    "## 1. Visualize images"
   ]
  },
  {
   "cell_type": "markdown",
   "metadata": {},
   "source": [
    "👉 Load the dataset (200 Mo)"
   ]
  },
  {
   "cell_type": "markdown",
   "metadata": {},
   "source": [
    "add test change"
   ]
  },
  {
   "cell_type": "code",
   "execution_count": 31,
   "metadata": {
    "ExecuteTime": {
     "end_time": "2021-03-17T15:27:14.889042Z",
     "start_time": "2021-03-17T15:26:52.157866Z"
    },
    "executionInfo": {
     "elapsed": 10102,
     "status": "ok",
     "timestamp": 1615229794824,
     "user": {
      "displayName": "Bruno Lajoie",
      "photoUrl": "https://lh3.googleusercontent.com/a-/AOh14Gg0dl6gThG8gOPbCvHbgt62zQnsi8cgbQ7C5HkD_Cg=s64",
      "userId": "15793030209206844069"
     },
     "user_tz": -60
    },
    "id": "2tZUrTCepyPs"
   },
   "outputs": [],
   "source": [
    "data = pd.read_csv(\"../../data/images.csv\")\n",
    "data = data.sample(frac=1)"
   ]
  },
  {
   "cell_type": "code",
   "execution_count": 32,
   "metadata": {},
   "outputs": [
    {
     "data": {
      "text/html": [
       "<div>\n",
       "<style scoped>\n",
       "    .dataframe tbody tr th:only-of-type {\n",
       "        vertical-align: middle;\n",
       "    }\n",
       "\n",
       "    .dataframe tbody tr th {\n",
       "        vertical-align: top;\n",
       "    }\n",
       "\n",
       "    .dataframe thead th {\n",
       "        text-align: right;\n",
       "    }\n",
       "</style>\n",
       "<table border=\"1\" class=\"dataframe\">\n",
       "  <thead>\n",
       "    <tr style=\"text-align: right;\">\n",
       "      <th></th>\n",
       "      <th>age</th>\n",
       "      <th>pixels</th>\n",
       "    </tr>\n",
       "  </thead>\n",
       "  <tbody>\n",
       "    <tr>\n",
       "      <th>18086</th>\n",
       "      <td>50</td>\n",
       "      <td>69 86 113 92 123 165 176 184 185 192 214 194 1...</td>\n",
       "    </tr>\n",
       "    <tr>\n",
       "      <th>16635</th>\n",
       "      <td>43</td>\n",
       "      <td>137 137 136 129 117 100 62 35 73 96 107 117 12...</td>\n",
       "    </tr>\n",
       "    <tr>\n",
       "      <th>1006</th>\n",
       "      <td>1</td>\n",
       "      <td>0 1 0 1 11 42 40 119 180 188 189 194 194 191 1...</td>\n",
       "    </tr>\n",
       "    <tr>\n",
       "      <th>13872</th>\n",
       "      <td>35</td>\n",
       "      <td>82 77 78 91 123 169 202 213 198 196 188 172 15...</td>\n",
       "    </tr>\n",
       "    <tr>\n",
       "      <th>5086</th>\n",
       "      <td>24</td>\n",
       "      <td>109 49 36 28 26 33 27 26 34 84 133 171 177 191...</td>\n",
       "    </tr>\n",
       "    <tr>\n",
       "      <th>...</th>\n",
       "      <td>...</td>\n",
       "      <td>...</td>\n",
       "    </tr>\n",
       "    <tr>\n",
       "      <th>22038</th>\n",
       "      <td>70</td>\n",
       "      <td>72 72 72 72 72 72 71 71 72 74 76 88 88 90 91 9...</td>\n",
       "    </tr>\n",
       "    <tr>\n",
       "      <th>20852</th>\n",
       "      <td>61</td>\n",
       "      <td>156 161 169 160 150 159 208 199 183 184 191 19...</td>\n",
       "    </tr>\n",
       "    <tr>\n",
       "      <th>7716</th>\n",
       "      <td>26</td>\n",
       "      <td>136 128 124 128 126 125 127 123 114 106 128 18...</td>\n",
       "    </tr>\n",
       "    <tr>\n",
       "      <th>18276</th>\n",
       "      <td>50</td>\n",
       "      <td>189 194 192 178 75 24 51 84 100 111 112 122 13...</td>\n",
       "    </tr>\n",
       "    <tr>\n",
       "      <th>13557</th>\n",
       "      <td>35</td>\n",
       "      <td>21 25 30 36 37 31 16 9 18 43 66 67 82 103 118 ...</td>\n",
       "    </tr>\n",
       "  </tbody>\n",
       "</table>\n",
       "<p>23705 rows × 2 columns</p>\n",
       "</div>"
      ],
      "text/plain": [
       "       age                                             pixels\n",
       "18086   50  69 86 113 92 123 165 176 184 185 192 214 194 1...\n",
       "16635   43  137 137 136 129 117 100 62 35 73 96 107 117 12...\n",
       "1006     1  0 1 0 1 11 42 40 119 180 188 189 194 194 191 1...\n",
       "13872   35  82 77 78 91 123 169 202 213 198 196 188 172 15...\n",
       "5086    24  109 49 36 28 26 33 27 26 34 84 133 171 177 191...\n",
       "...    ...                                                ...\n",
       "22038   70  72 72 72 72 72 72 71 71 72 74 76 88 88 90 91 9...\n",
       "20852   61  156 161 169 160 150 159 208 199 183 184 191 19...\n",
       "7716    26  136 128 124 128 126 125 127 123 114 106 128 18...\n",
       "18276   50  189 194 192 178 75 24 51 84 100 111 112 122 13...\n",
       "13557   35  21 25 30 36 37 31 16 9 18 43 66 67 82 103 118 ...\n",
       "\n",
       "[23705 rows x 2 columns]"
      ]
     },
     "execution_count": 32,
     "metadata": {},
     "output_type": "execute_result"
    }
   ],
   "source": [
    "data"
   ]
  },
  {
   "cell_type": "code",
   "execution_count": 18,
   "metadata": {
    "ExecuteTime": {
     "end_time": "2021-03-17T15:27:15.272065Z",
     "start_time": "2021-03-17T15:27:14.891739Z"
    }
   },
   "outputs": [
    {
     "data": {
      "image/png": "[encoded data removed]",
      "text/plain": [
       "<Figure size 432x288 with 1 Axes>"
      ]
     },
     "metadata": {
      "needs_background": "light"
     },
     "output_type": "display_data"
    }
   ],
   "source": [
    "sns.histplot(data.age);"
   ]
  },
  {
   "cell_type": "code",
   "execution_count": 19,
   "metadata": {
    "ExecuteTime": {
     "end_time": "2021-03-17T15:27:15.394887Z",
     "start_time": "2021-03-17T15:27:15.276140Z"
    },
    "colab": {
     "base_uri": "https://localhost:8080/",
     "height": 284
    },
    "executionInfo": {
     "elapsed": 594,
     "status": "ok",
     "timestamp": 1615229800246,
     "user": {
      "displayName": "Bruno Lajoie",
      "photoUrl": "https://lh3.googleusercontent.com/a-/AOh14Gg0dl6gThG8gOPbCvHbgt62zQnsi8cgbQ7C5HkD_Cg=s64",
      "userId": "15793030209206844069"
     },
     "user_tz": -60
    },
    "id": "q9dLVirWwMoE",
    "outputId": "cd8b8794-35ff-4405-cef7-15909a03b846"
   },
   "outputs": [
    {
     "data": {
      "text/plain": [
       "<matplotlib.image.AxesImage at 0x7f2fe7ffa810>"
      ]
     },
     "execution_count": 19,
     "metadata": {},
     "output_type": "execute_result"
    },
    {
     "data": {
      "image/png": "[encoded data removed]",
      "text/plain": [
       "<Figure size 432x288 with 1 Axes>"
      ]
     },
     "metadata": {
      "needs_background": "light"
     },
     "output_type": "display_data"
    }
   ],
   "source": [
    "plt.imshow(np.array(data['pixels'][0].split(), dtype=\"int32\").reshape(48,48), cmap=\"gray\")"
   ]
  },
  {
   "cell_type": "code",
   "execution_count": 20,
   "metadata": {
    "ExecuteTime": {
     "end_time": "2021-03-15T09:44:22.254568Z",
     "start_time": "2021-03-15T09:44:22.131278Z"
    }
   },
   "outputs": [
    {
     "data": {
      "text/plain": [
       "<matplotlib.image.AxesImage at 0x7f2f93834d50>"
      ]
     },
     "execution_count": 20,
     "metadata": {},
     "output_type": "execute_result"
    },
    {
     "data": {
      "image/png": "[encoded data removed]",
      "text/plain": [
       "<Figure size 432x288 with 1 Axes>"
      ]
     },
     "metadata": {
      "needs_background": "light"
     },
     "output_type": "display_data"
    }
   ],
   "source": [
    "plt.imshow(np.array(data['pixels'][10000].split(), dtype=\"int32\").reshape(48,48), cmap=\"gray\")"
   ]
  },
  {
   "cell_type": "markdown",
   "metadata": {
    "id": "AjeMU0GTwFSe"
   },
   "source": [
    "## 2. Processing"
   ]
  },
  {
   "cell_type": "code",
   "execution_count": 21,
   "metadata": {
    "ExecuteTime": {
     "end_time": "2021-03-17T15:27:46.643675Z",
     "start_time": "2021-03-17T15:27:39.506598Z"
    },
    "executionInfo": {
     "elapsed": 7742,
     "status": "ok",
     "timestamp": 1615229809890,
     "user": {
      "displayName": "Bruno Lajoie",
      "photoUrl": "https://lh3.googleusercontent.com/a-/AOh14Gg0dl6gThG8gOPbCvHbgt62zQnsi8cgbQ7C5HkD_Cg=s64",
      "userId": "15793030209206844069"
     },
     "user_tz": -60
    },
    "id": "2MUSTFTFrp0V"
   },
   "outputs": [],
   "source": [
    "X = data[\"pixels\"].apply(lambda x: np.array(x.split(), dtype=\"int32\"))\n",
    "X = np.vstack(X.values)\n",
    "\n",
    "X = X.reshape(-1, 48, 48, 1)\n",
    "\n",
    "# Normalize data\n",
    "X = X / 255\n",
    "\n",
    "y = np.array(data['age'])"
   ]
  },
  {
   "cell_type": "code",
   "execution_count": 22,
   "metadata": {
    "ExecuteTime": {
     "end_time": "2021-03-17T15:27:59.012711Z",
     "start_time": "2021-03-17T15:27:59.006559Z"
    }
   },
   "outputs": [
    {
     "data": {
      "text/plain": [
       "(23705, 48, 48, 1)"
      ]
     },
     "execution_count": 22,
     "metadata": {},
     "output_type": "execute_result"
    }
   ],
   "source": [
    "X.shape"
   ]
  },
  {
   "cell_type": "code",
   "execution_count": null,
   "metadata": {
    "ExecuteTime": {
     "end_time": "2021-03-17T15:28:53.020559Z",
     "start_time": "2021-03-17T15:28:52.977366Z"
    }
   },
   "outputs": [],
   "source": [
    "pd.DataFrame(X[0,:,:,0])"
   ]
  },
  {
   "cell_type": "markdown",
   "metadata": {
    "id": "3bSHDYC8OlrL"
   },
   "source": [
    "## Neural Network for Age prediction"
   ]
  },
  {
   "cell_type": "code",
   "execution_count": 24,
   "metadata": {
    "ExecuteTime": {
     "end_time": "2021-03-17T15:30:08.289330Z",
     "start_time": "2021-03-17T15:30:08.158006Z"
    },
    "colab": {
     "base_uri": "https://localhost:8080/"
    },
    "executionInfo": {
     "elapsed": 427,
     "status": "ok",
     "timestamp": 1615231554099,
     "user": {
      "displayName": "Bruno Lajoie",
      "photoUrl": "https://lh3.googleusercontent.com/a-/AOh14Gg0dl6gThG8gOPbCvHbgt62zQnsi8cgbQ7C5HkD_Cg=s64",
      "userId": "15793030209206844069"
     },
     "user_tz": -60
    },
    "id": "o-vaYNoXTQPS",
    "outputId": "4fe2b570-77a5-4f38-daa7-ff1f5f1fac02"
   },
   "outputs": [
    {
     "name": "stdout",
     "output_type": "stream",
     "text": [
      "Model: \"sequential_2\"\n",
      "_________________________________________________________________\n",
      "Layer (type)                 Output Shape              Param #   \n",
      "=================================================================\n",
      "conv2d_4 (Conv2D)            (None, 48, 48, 32)        320       \n",
      "_________________________________________________________________\n",
      "max_pooling2d_4 (MaxPooling2 (None, 24, 24, 32)        0         \n",
      "_________________________________________________________________\n",
      "conv2d_5 (Conv2D)            (None, 24, 24, 64)        8256      \n",
      "_________________________________________________________________\n",
      "max_pooling2d_5 (MaxPooling2 (None, 12, 12, 64)        0         \n",
      "_________________________________________________________________\n",
      "flatten_2 (Flatten)          (None, 9216)              0         \n",
      "_________________________________________________________________\n",
      "dense_6 (Dense)              (None, 64)                589888    \n",
      "_________________________________________________________________\n",
      "dropout_4 (Dropout)          (None, 64)                0         \n",
      "_________________________________________________________________\n",
      "dense_7 (Dense)              (None, 10)                650       \n",
      "_________________________________________________________________\n",
      "dropout_5 (Dropout)          (None, 10)                0         \n",
      "_________________________________________________________________\n",
      "dense_8 (Dense)              (None, 1)                 11        \n",
      "=================================================================\n",
      "Total params: 599,125\n",
      "Trainable params: 599,125\n",
      "Non-trainable params: 0\n",
      "_________________________________________________________________\n"
     ]
    }
   ],
   "source": [
    "def init_model():\n",
    "    model = Sequential()\n",
    "    model.add(layers.Conv2D(32, (3, 3), padding='same', input_shape = (48, 48, 1), activation = 'relu'))\n",
    "    model.add(layers.MaxPooling2D(pool_size=(2, 2)))\n",
    "\n",
    "    model.add(layers.Conv2D(64, (2, 2), padding='same', activation = 'relu'))\n",
    "    model.add(layers.MaxPooling2D(pool_size=(2, 2)))\n",
    "\n",
    "    model.add(layers.Flatten())\n",
    "    model.add(layers.Dense(units = 64, activation = 'relu'))\n",
    "    model.add(layers.Dropout(0.3))\n",
    "    model.add(layers.Dense(units = 10, activation = 'relu'))\n",
    "    model.add(layers.Dropout(0.2))\n",
    "    model.add(layers.Dense(units = 1, activation = 'linear'))\n",
    "    \n",
    "    return model\n",
    "\n",
    "model = init_model()\n",
    "model.summary()"
   ]
  },
  {
   "cell_type": "code",
   "execution_count": 25,
   "metadata": {
    "ExecuteTime": {
     "end_time": "2021-03-17T15:30:17.114738Z",
     "start_time": "2021-03-17T15:30:17.110439Z"
    },
    "executionInfo": {
     "elapsed": 461,
     "status": "ok",
     "timestamp": 1615231634267,
     "user": {
      "displayName": "Bruno Lajoie",
      "photoUrl": "https://lh3.googleusercontent.com/a-/AOh14Gg0dl6gThG8gOPbCvHbgt62zQnsi8cgbQ7C5HkD_Cg=s64",
      "userId": "15793030209206844069"
     },
     "user_tz": -60
    },
    "id": "wci5w659TlQE"
   },
   "outputs": [],
   "source": [
    "def compile_model(model):\n",
    "    model.compile(loss='mse',\n",
    "                  optimizer='adam',\n",
    "                  metrics=['mae'])\n",
    "    return model"
   ]
  },
  {
   "cell_type": "code",
   "execution_count": 26,
   "metadata": {
    "ExecuteTime": {
     "end_time": "2021-03-12T17:38:47.073416Z",
     "start_time": "2021-03-12T17:38:47.068861Z"
    },
    "id": "EydP70znTxYv"
   },
   "outputs": [],
   "source": [
    "def fit_model(model, X, y):\n",
    "    es = EarlyStopping(patience=2, verbose=1, restore_best_weights=True)\n",
    "\n",
    "    history = model.fit(X, y, \n",
    "                    validation_split=0.3,\n",
    "                    callbacks=[es], \n",
    "                    epochs=100, \n",
    "                    batch_size=64)\n",
    "    return history"
   ]
  },
  {
   "cell_type": "code",
   "execution_count": 27,
   "metadata": {
    "ExecuteTime": {
     "end_time": "2021-03-12T17:41:11.909315Z",
     "start_time": "2021-03-12T17:38:47.247788Z"
    },
    "colab": {
     "base_uri": "https://localhost:8080/"
    },
    "executionInfo": {
     "elapsed": 145218,
     "status": "ok",
     "timestamp": 1615231785962,
     "user": {
      "displayName": "Bruno Lajoie",
      "photoUrl": "https://lh3.googleusercontent.com/a-/AOh14Gg0dl6gThG8gOPbCvHbgt62zQnsi8cgbQ7C5HkD_Cg=s64",
      "userId": "15793030209206844069"
     },
     "user_tz": -60
    },
    "id": "XTCOWvUsTZBY",
    "outputId": "d37890d4-4ee5-4372-eb6b-324c1cb412a3"
   },
   "outputs": [
    {
     "name": "stdout",
     "output_type": "stream",
     "text": [
      "Epoch 1/100\n",
      "260/260 [==============================] - 24s 89ms/step - loss: 721.0160 - mae: 21.0696 - val_loss: 382.3300 - val_mae: 14.3994\n",
      "Epoch 2/100\n",
      "260/260 [==============================] - 22s 83ms/step - loss: 441.2464 - mae: 16.2418 - val_loss: 250.7667 - val_mae: 11.9263\n",
      "Epoch 3/100\n",
      "260/260 [==============================] - 21s 83ms/step - loss: 405.2090 - mae: 15.2682 - val_loss: 228.1219 - val_mae: 11.3896\n",
      "Epoch 4/100\n",
      "260/260 [==============================] - 22s 86ms/step - loss: 380.4825 - mae: 14.7489 - val_loss: 204.8281 - val_mae: 11.0547\n",
      "Epoch 5/100\n",
      "260/260 [==============================] - 23s 89ms/step - loss: 405.3897 - mae: 15.0909 - val_loss: 242.3130 - val_mae: 11.5467\n",
      "Epoch 6/100\n",
      "260/260 [==============================] - 23s 87ms/step - loss: 364.8723 - mae: 14.2748 - val_loss: 204.1881 - val_mae: 10.6237\n",
      "Epoch 7/100\n",
      "260/260 [==============================] - 22s 84ms/step - loss: 373.4790 - mae: 14.5448 - val_loss: 262.1248 - val_mae: 12.0104\n",
      "Epoch 8/100\n",
      "260/260 [==============================] - 20s 78ms/step - loss: 351.9718 - mae: 14.2090 - val_loss: 184.5278 - val_mae: 10.1502\n",
      "Epoch 9/100\n",
      "260/260 [==============================] - 22s 84ms/step - loss: 344.1937 - mae: 13.8973 - val_loss: 174.5846 - val_mae: 9.8473\n",
      "Epoch 10/100\n",
      "260/260 [==============================] - 22s 85ms/step - loss: 330.7020 - mae: 13.6695 - val_loss: 208.3594 - val_mae: 10.6160\n",
      "Epoch 11/100\n",
      "260/260 [==============================] - 20s 75ms/step - loss: 340.0076 - mae: 13.6422 - val_loss: 168.2997 - val_mae: 9.6309\n",
      "Epoch 12/100\n",
      "260/260 [==============================] - 20s 75ms/step - loss: 326.1589 - mae: 13.4924 - val_loss: 168.7440 - val_mae: 9.6545\n",
      "Epoch 13/100\n",
      "260/260 [==============================] - 20s 78ms/step - loss: 316.6772 - mae: 13.2224 - val_loss: 168.6299 - val_mae: 9.5379\n",
      "Restoring model weights from the end of the best epoch.\n",
      "Epoch 00013: early stopping\n"
     ]
    }
   ],
   "source": [
    "model = init_model()\n",
    "model = compile_model(model)\n",
    "history = fit_model(model, X, y)"
   ]
  },
  {
   "cell_type": "code",
   "execution_count": 28,
   "metadata": {
    "ExecuteTime": {
     "end_time": "2021-03-12T17:41:11.916769Z",
     "start_time": "2021-03-12T17:41:11.911839Z"
    }
   },
   "outputs": [],
   "source": [
    "def plot_history(history, title='', axs=None, exp_name=\"\"):\n",
    "    if axs is not None:\n",
    "        ax1, ax2 = axs\n",
    "    else:\n",
    "        f, (ax1, ax2) = plt.subplots(1, 2, figsize=(12, 4))\n",
    "    \n",
    "    if len(exp_name) > 0 and exp_name[0] != '_':\n",
    "        exp_name = '_' + exp_name\n",
    "    ax1.plot(history.history['loss'], label='train' + exp_name)\n",
    "    ax1.plot(history.history['val_loss'], label='val' + exp_name)\n",
    "    ax1.set_title('loss')\n",
    "    ax1.legend()\n",
    "\n",
    "    ax2.plot(history.history['mae'], label='train mae'  + exp_name)\n",
    "    ax2.plot(history.history['val_mae'], label='val mae'  + exp_name)\n",
    "    ax2.set_title('mae')\n",
    "    ax2.legend()\n",
    "    return (ax1, ax2)"
   ]
  },
  {
   "cell_type": "code",
   "execution_count": 29,
   "metadata": {
    "ExecuteTime": {
     "end_time": "2021-03-12T17:41:12.264550Z",
     "start_time": "2021-03-12T17:41:11.919796Z"
    }
   },
   "outputs": [
    {
     "data": {
      "image/png": "[encoded data removed]",
      "text/plain": [
       "<Figure size 864x288 with 2 Axes>"
      ]
     },
     "metadata": {
      "needs_background": "light"
     },
     "output_type": "display_data"
    }
   ],
   "source": [
    "plot_history(history);"
   ]
  },
  {
   "cell_type": "code",
   "execution_count": 30,
   "metadata": {
    "ExecuteTime": {
     "end_time": "2021-03-12T17:47:31.035958Z",
     "start_time": "2021-03-12T17:47:29.798121Z"
    },
    "colab": {
     "base_uri": "https://localhost:8080/"
    },
    "executionInfo": {
     "elapsed": 1032,
     "status": "ok",
     "timestamp": 1615231968574,
     "user": {
      "displayName": "Bruno Lajoie",
      "photoUrl": "https://lh3.googleusercontent.com/a-/AOh14Gg0dl6gThG8gOPbCvHbgt62zQnsi8cgbQ7C5HkD_Cg=s64",
      "userId": "15793030209206844069"
     },
     "user_tz": -60
    },
    "id": "RQMpEc4ITdne",
    "outputId": "9a0a5643-6652-4a68-aa86-cd671733ca17",
    "scrolled": true
   },
   "outputs": [
    {
     "name": "stdout",
     "output_type": "stream",
     "text": [
      "baseline MAE: 15.34814871735347 years\n"
     ]
    }
   ],
   "source": [
    "from sklearn.metrics import mean_absolute_error\n",
    "\n",
    "# Baseline MAE predicting always mean age\n",
    "mae_baseline = mean_absolute_error(y, np.ones(y.shape) * y.mean())\n",
    "\n",
    "print(f'baseline MAE: {mae_baseline} years')"
   ]
  },
  {
   "cell_type": "code",
   "execution_count": null,
   "metadata": {},
   "outputs": [],
   "source": []
  }
 ],
 "metadata": {
  "accelerator": "GPU",
  "colab": {
   "authorship_tag": "ABX9TyMOYn4GJAg9EKtu1bGhcoI1",
   "collapsed_sections": [],
   "name": "certification_DL_images",
   "provenance": [],
   "toc_visible": true
  },
  "environment": {
   "name": "tf2-gpu.2-4.m65",
   "type": "gcloud",
   "uri": "gcr.io/deeplearning-platform-release/tf2-gpu.2-4:m65"
  },
  "kernelspec": {
   "display_name": "Python 3",
   "language": "python",
   "name": "python3"
  },
  "language_info": {
   "codemirror_mode": {
    "name": "ipython",
    "version": 3
   },
   "file_extension": ".py",
   "mimetype": "text/x-python",
   "name": "python",
   "nbconvert_exporter": "python",
   "pygments_lexer": "ipython3",
   "version": "3.7.10"
  },
  "toc": {
   "base_numbering": 1,
   "nav_menu": {},
   "number_sections": false,
   "sideBar": true,
   "skip_h1_title": false,
   "title_cell": "Table of Contents",
   "title_sidebar": "Contents",
   "toc_cell": false,
   "toc_position": {},
   "toc_section_display": true,
   "toc_window_display": true
  }
 },
 "nbformat": 4,
 "nbformat_minor": 4
}
